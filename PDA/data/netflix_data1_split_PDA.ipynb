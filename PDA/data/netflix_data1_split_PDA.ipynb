{
 "cells": [
  {
   "cell_type": "code",
   "execution_count": 1,
   "id": "871dc610",
   "metadata": {},
   "outputs": [],
   "source": [
    "import numpy as np\n",
    "import pandas as pd"
   ]
  },
  {
   "cell_type": "code",
   "execution_count": 2,
   "id": "ca8e0590",
   "metadata": {},
   "outputs": [
    {
     "data": {
      "text/html": [
       "<div>\n",
       "<style scoped>\n",
       "    .dataframe tbody tr th:only-of-type {\n",
       "        vertical-align: middle;\n",
       "    }\n",
       "\n",
       "    .dataframe tbody tr th {\n",
       "        vertical-align: top;\n",
       "    }\n",
       "\n",
       "    .dataframe thead th {\n",
       "        text-align: right;\n",
       "    }\n",
       "</style>\n",
       "<table border=\"1\" class=\"dataframe\">\n",
       "  <thead>\n",
       "    <tr style=\"text-align: right;\">\n",
       "      <th></th>\n",
       "      <th>Unnamed: 0</th>\n",
       "      <th>Cust_Id</th>\n",
       "      <th>Rating</th>\n",
       "      <th>Date</th>\n",
       "      <th>Movie_Id</th>\n",
       "    </tr>\n",
       "  </thead>\n",
       "  <tbody>\n",
       "    <tr>\n",
       "      <th>0</th>\n",
       "      <td>0</td>\n",
       "      <td>712664</td>\n",
       "      <td>5.0</td>\n",
       "      <td>2004-02-01</td>\n",
       "      <td>3</td>\n",
       "    </tr>\n",
       "    <tr>\n",
       "      <th>1</th>\n",
       "      <td>1</td>\n",
       "      <td>1331154</td>\n",
       "      <td>4.0</td>\n",
       "      <td>2004-07-03</td>\n",
       "      <td>3</td>\n",
       "    </tr>\n",
       "  </tbody>\n",
       "</table>\n",
       "</div>"
      ],
      "text/plain": [
       "   Unnamed: 0  Cust_Id  Rating        Date  Movie_Id\n",
       "0           0   712664     5.0  2004-02-01         3\n",
       "1           1  1331154     4.0  2004-07-03         3"
      ]
     },
     "execution_count": 2,
     "metadata": {},
     "output_type": "execute_result"
    }
   ],
   "source": [
    "data_pd = pd.read_csv(\"nf_data_1_processed\",header=0)\n",
    "data_pd.head(2)"
   ]
  },
  {
   "cell_type": "code",
   "execution_count": 3,
   "id": "6a87b2c5",
   "metadata": {},
   "outputs": [],
   "source": [
    "data_pd = data_pd.rename(columns={\"Cust_Id\": \"UserId\", \"Movie_Id\": \"ItemId\",\"Date\":'date'})"
   ]
  },
  {
   "cell_type": "code",
   "execution_count": 4,
   "id": "f49d8f90",
   "metadata": {},
   "outputs": [
    {
     "data": {
      "text/html": [
       "<div>\n",
       "<style scoped>\n",
       "    .dataframe tbody tr th:only-of-type {\n",
       "        vertical-align: middle;\n",
       "    }\n",
       "\n",
       "    .dataframe tbody tr th {\n",
       "        vertical-align: top;\n",
       "    }\n",
       "\n",
       "    .dataframe thead th {\n",
       "        text-align: right;\n",
       "    }\n",
       "</style>\n",
       "<table border=\"1\" class=\"dataframe\">\n",
       "  <thead>\n",
       "    <tr style=\"text-align: right;\">\n",
       "      <th></th>\n",
       "      <th>UserId</th>\n",
       "      <th>ItemId</th>\n",
       "      <th>date</th>\n",
       "      <th>Rating</th>\n",
       "    </tr>\n",
       "  </thead>\n",
       "  <tbody>\n",
       "    <tr>\n",
       "      <th>0</th>\n",
       "      <td>712664</td>\n",
       "      <td>3</td>\n",
       "      <td>2004-02-01</td>\n",
       "      <td>5.0</td>\n",
       "    </tr>\n",
       "    <tr>\n",
       "      <th>1</th>\n",
       "      <td>1331154</td>\n",
       "      <td>3</td>\n",
       "      <td>2004-07-03</td>\n",
       "      <td>4.0</td>\n",
       "    </tr>\n",
       "  </tbody>\n",
       "</table>\n",
       "</div>"
      ],
      "text/plain": [
       "    UserId  ItemId        date  Rating\n",
       "0   712664       3  2004-02-01     5.0\n",
       "1  1331154       3  2004-07-03     4.0"
      ]
     },
     "execution_count": 4,
     "metadata": {},
     "output_type": "execute_result"
    }
   ],
   "source": [
    "data_pd = data_pd[['UserId','ItemId','date','Rating']]\n",
    "data_pd.head(2)"
   ]
  },
  {
   "cell_type": "code",
   "execution_count": 5,
   "id": "9ac9c7e5",
   "metadata": {},
   "outputs": [
    {
     "name": "stdout",
     "output_type": "stream",
     "text": [
      "time span: 1999-11-11 2005-12-31\n"
     ]
    }
   ],
   "source": [
    "print('time span:',data_pd['date'].min(), data_pd['date'].max())"
   ]
  },
  {
   "cell_type": "code",
   "execution_count": 6,
   "id": "08dc4a30",
   "metadata": {},
   "outputs": [
    {
     "name": "stdout",
     "output_type": "stream",
     "text": [
      "(17337458, 4)\n"
     ]
    }
   ],
   "source": [
    "print(data_pd.shape)"
   ]
  },
  {
   "cell_type": "code",
   "execution_count": 7,
   "id": "722f907c",
   "metadata": {},
   "outputs": [
    {
     "data": {
      "text/html": [
       "<div>\n",
       "<style scoped>\n",
       "    .dataframe tbody tr th:only-of-type {\n",
       "        vertical-align: middle;\n",
       "    }\n",
       "\n",
       "    .dataframe tbody tr th {\n",
       "        vertical-align: top;\n",
       "    }\n",
       "\n",
       "    .dataframe thead th {\n",
       "        text-align: right;\n",
       "    }\n",
       "</style>\n",
       "<table border=\"1\" class=\"dataframe\">\n",
       "  <thead>\n",
       "    <tr style=\"text-align: right;\">\n",
       "      <th></th>\n",
       "      <th>ItemId</th>\n",
       "    </tr>\n",
       "    <tr>\n",
       "      <th>Rating</th>\n",
       "      <th></th>\n",
       "    </tr>\n",
       "  </thead>\n",
       "  <tbody>\n",
       "    <tr>\n",
       "      <th>1.0</th>\n",
       "      <td>721356</td>\n",
       "    </tr>\n",
       "    <tr>\n",
       "      <th>2.0</th>\n",
       "      <td>1759281</td>\n",
       "    </tr>\n",
       "    <tr>\n",
       "      <th>3.0</th>\n",
       "      <td>5185650</td>\n",
       "    </tr>\n",
       "    <tr>\n",
       "      <th>4.0</th>\n",
       "      <td>5901368</td>\n",
       "    </tr>\n",
       "    <tr>\n",
       "      <th>5.0</th>\n",
       "      <td>3769803</td>\n",
       "    </tr>\n",
       "  </tbody>\n",
       "</table>\n",
       "</div>"
      ],
      "text/plain": [
       "         ItemId\n",
       "Rating         \n",
       "1.0      721356\n",
       "2.0     1759281\n",
       "3.0     5185650\n",
       "4.0     5901368\n",
       "5.0     3769803"
      ]
     },
     "execution_count": 7,
     "metadata": {},
     "output_type": "execute_result"
    }
   ],
   "source": [
    "data_pd.groupby('Rating').agg({'ItemId':'count'})"
   ]
  },
  {
   "cell_type": "code",
   "execution_count": 8,
   "id": "a765f12a",
   "metadata": {
    "scrolled": true
   },
   "outputs": [
    {
     "name": "stdout",
     "output_type": "stream",
     "text": [
      "unique ids: (143458,) (1350,)\n"
     ]
    }
   ],
   "source": [
    "print('unique ids:', data_pd['UserId'].unique().shape, data_pd['ItemId'].unique().shape)"
   ]
  },
  {
   "cell_type": "code",
   "execution_count": 9,
   "id": "c3447c5f",
   "metadata": {},
   "outputs": [],
   "source": [
    "data_pd['date']=pd.to_datetime(data_pd['date'])"
   ]
  },
  {
   "cell_type": "markdown",
   "id": "cc8f81eb",
   "metadata": {},
   "source": [
    "## Split slots"
   ]
  },
  {
   "cell_type": "code",
   "execution_count": 12,
   "id": "6ab067d7",
   "metadata": {},
   "outputs": [],
   "source": [
    "import datetime"
   ]
  },
  {
   "cell_type": "code",
   "execution_count": 20,
   "id": "63440951",
   "metadata": {},
   "outputs": [],
   "source": [
    "data_pd['timestamp'] = data_pd['date'].astype(int)"
   ]
  },
  {
   "cell_type": "code",
   "execution_count": 25,
   "id": "e6ef703b",
   "metadata": {},
   "outputs": [],
   "source": [
    "time_min = data_pd['timestamp'].min()\n",
    "time_max = data_pd['timestamp'].max()\n",
    "slot_gap = (time_max - time_min) /10"
   ]
  },
  {
   "cell_type": "code",
   "execution_count": 26,
   "id": "6834f1bc",
   "metadata": {},
   "outputs": [
    {
     "data": {
      "text/plain": [
       "1.937088e+16"
      ]
     },
     "execution_count": 26,
     "metadata": {},
     "output_type": "execute_result"
    }
   ],
   "source": [
    "slot_gap"
   ]
  },
  {
   "cell_type": "code",
   "execution_count": 27,
   "id": "7db04323",
   "metadata": {},
   "outputs": [],
   "source": [
    "data=data_pd"
   ]
  },
  {
   "cell_type": "code",
   "execution_count": 30,
   "id": "65477092",
   "metadata": {},
   "outputs": [
    {
     "name": "stderr",
     "output_type": "stream",
     "text": [
      "/tmp/ipykernel_187/3955024126.py:5: DeprecationWarning: `np.int` is a deprecated alias for the builtin `int`. To silence this warning, use `int` by itself. Doing this will not modify any behavior and is safe. When replacing `np.int`, you may wish to use e.g. `np.int64` or `np.int32` to specify the precision. If you wish to review your current use, check the release note link for additional information.\n",
      "Deprecated in NumPy 1.20; for more details and guidance: https://numpy.org/devdocs/release/1.20.0-notes.html#deprecations\n",
      "  data['time_slot'] = data[['time_slot']].astype(np.int)\n"
     ]
    }
   ],
   "source": [
    "time_min = data['timestamp'].min()\n",
    "time_max = data['timestamp'].max()\n",
    "slot_gap = (time_max - time_min) /10\n",
    "data['time_slot'] = data[\"timestamp\"].apply(lambda x: int(min(int((x-time_min))//slot_gap,9)))\n",
    "data['time_slot'] = data[['time_slot']].astype(np.int)"
   ]
  },
  {
   "cell_type": "code",
   "execution_count": 32,
   "id": "8cf20ae2",
   "metadata": {},
   "outputs": [
    {
     "data": {
      "text/html": [
       "<div>\n",
       "<style scoped>\n",
       "    .dataframe tbody tr th:only-of-type {\n",
       "        vertical-align: middle;\n",
       "    }\n",
       "\n",
       "    .dataframe tbody tr th {\n",
       "        vertical-align: top;\n",
       "    }\n",
       "\n",
       "    .dataframe thead th {\n",
       "        text-align: right;\n",
       "    }\n",
       "</style>\n",
       "<table border=\"1\" class=\"dataframe\">\n",
       "  <thead>\n",
       "    <tr style=\"text-align: right;\">\n",
       "      <th></th>\n",
       "      <th>UserId</th>\n",
       "      <th>ItemId</th>\n",
       "      <th>date</th>\n",
       "      <th>Rating</th>\n",
       "      <th>timestamp</th>\n",
       "    </tr>\n",
       "    <tr>\n",
       "      <th>time_slot</th>\n",
       "      <th></th>\n",
       "      <th></th>\n",
       "      <th></th>\n",
       "      <th></th>\n",
       "      <th></th>\n",
       "    </tr>\n",
       "  </thead>\n",
       "  <tbody>\n",
       "    <tr>\n",
       "      <th>0</th>\n",
       "      <td>73772</td>\n",
       "      <td>73772</td>\n",
       "      <td>73772</td>\n",
       "      <td>73772</td>\n",
       "      <td>73772</td>\n",
       "    </tr>\n",
       "    <tr>\n",
       "      <th>1</th>\n",
       "      <td>120046</td>\n",
       "      <td>120046</td>\n",
       "      <td>120046</td>\n",
       "      <td>120046</td>\n",
       "      <td>120046</td>\n",
       "    </tr>\n",
       "    <tr>\n",
       "      <th>2</th>\n",
       "      <td>165978</td>\n",
       "      <td>165978</td>\n",
       "      <td>165978</td>\n",
       "      <td>165978</td>\n",
       "      <td>165978</td>\n",
       "    </tr>\n",
       "    <tr>\n",
       "      <th>3</th>\n",
       "      <td>327145</td>\n",
       "      <td>327145</td>\n",
       "      <td>327145</td>\n",
       "      <td>327145</td>\n",
       "      <td>327145</td>\n",
       "    </tr>\n",
       "    <tr>\n",
       "      <th>4</th>\n",
       "      <td>501930</td>\n",
       "      <td>501930</td>\n",
       "      <td>501930</td>\n",
       "      <td>501930</td>\n",
       "      <td>501930</td>\n",
       "    </tr>\n",
       "    <tr>\n",
       "      <th>5</th>\n",
       "      <td>818362</td>\n",
       "      <td>818362</td>\n",
       "      <td>818362</td>\n",
       "      <td>818362</td>\n",
       "      <td>818362</td>\n",
       "    </tr>\n",
       "    <tr>\n",
       "      <th>6</th>\n",
       "      <td>1854628</td>\n",
       "      <td>1854628</td>\n",
       "      <td>1854628</td>\n",
       "      <td>1854628</td>\n",
       "      <td>1854628</td>\n",
       "    </tr>\n",
       "    <tr>\n",
       "      <th>7</th>\n",
       "      <td>3397493</td>\n",
       "      <td>3397493</td>\n",
       "      <td>3397493</td>\n",
       "      <td>3397493</td>\n",
       "      <td>3397493</td>\n",
       "    </tr>\n",
       "    <tr>\n",
       "      <th>8</th>\n",
       "      <td>5183034</td>\n",
       "      <td>5183034</td>\n",
       "      <td>5183034</td>\n",
       "      <td>5183034</td>\n",
       "      <td>5183034</td>\n",
       "    </tr>\n",
       "    <tr>\n",
       "      <th>9</th>\n",
       "      <td>4895070</td>\n",
       "      <td>4895070</td>\n",
       "      <td>4895070</td>\n",
       "      <td>4895070</td>\n",
       "      <td>4895070</td>\n",
       "    </tr>\n",
       "  </tbody>\n",
       "</table>\n",
       "</div>"
      ],
      "text/plain": [
       "            UserId   ItemId     date   Rating  timestamp\n",
       "time_slot                                               \n",
       "0            73772    73772    73772    73772      73772\n",
       "1           120046   120046   120046   120046     120046\n",
       "2           165978   165978   165978   165978     165978\n",
       "3           327145   327145   327145   327145     327145\n",
       "4           501930   501930   501930   501930     501930\n",
       "5           818362   818362   818362   818362     818362\n",
       "6          1854628  1854628  1854628  1854628    1854628\n",
       "7          3397493  3397493  3397493  3397493    3397493\n",
       "8          5183034  5183034  5183034  5183034    5183034\n",
       "9          4895070  4895070  4895070  4895070    4895070"
      ]
     },
     "execution_count": 32,
     "metadata": {},
     "output_type": "execute_result"
    }
   ],
   "source": [
    "data.groupby('time_slot').count()"
   ]
  },
  {
   "cell_type": "code",
   "execution_count": 33,
   "id": "df3cc4d0",
   "metadata": {},
   "outputs": [
    {
     "name": "stdout",
     "output_type": "stream",
     "text": [
      "train: 12442388 test: 4895070\n"
     ]
    }
   ],
   "source": [
    "train_slots = [0 ,1, 2, 3, 4, 5, 6,7,8]\n",
    "test_slots = [9]\n",
    "data_train = data[data['time_slot'].isin(train_slots)]\n",
    "data_test = data[data['time_slot'].isin(test_slots)]\n",
    "print(\"train:\",data_train.shape[0],'test:',data_test.shape[0])"
   ]
  },
  {
   "cell_type": "code",
   "execution_count": 34,
   "id": "1ae76944",
   "metadata": {},
   "outputs": [
    {
     "name": "stdout",
     "output_type": "stream",
     "text": [
      "user not include in user_items_test: (2791715, 6)\n",
      "train: 12442388 not-new test: 2776038\n",
      "not repeat train: 12442388 not-repeat test: 2776038\n"
     ]
    }
   ],
   "source": [
    "user_in_train = data_train['UserId'].unique()\n",
    "item_in_train = data_train['ItemId'].unique()\n",
    "\n",
    "# filter new user/item in train\n",
    "data_test = data_test[data_test['UserId'].isin(user_in_train)]\n",
    "print(\"user not include in user_items_test:\",data_test.shape)\n",
    "data_test = data_test[data_test['ItemId'].isin(item_in_train)]\n",
    "print(\"train:\",data_train.shape[0],'not-new test:',data_test.shape[0])\n",
    "\n",
    "# filter repeat\n",
    "data_train = data_train.drop_duplicates(subset=['UserId','ItemId'],keep='first')\n",
    "data_test = data_test.drop_duplicates(subset=['UserId','ItemId'],keep='first')\n",
    "print(\"not repeat train:\",data_train.shape[0],'not-repeat test:',data_test.shape[0])"
   ]
  },
  {
   "cell_type": "code",
   "execution_count": 35,
   "id": "26cc55fe",
   "metadata": {},
   "outputs": [
    {
     "name": "stdout",
     "output_type": "stream",
     "text": [
      "user num: (122958,)\n",
      "item num: (1343,)\n"
     ]
    },
    {
     "data": {
      "text/html": [
       "<div>\n",
       "<style scoped>\n",
       "    .dataframe tbody tr th:only-of-type {\n",
       "        vertical-align: middle;\n",
       "    }\n",
       "\n",
       "    .dataframe tbody tr th {\n",
       "        vertical-align: top;\n",
       "    }\n",
       "\n",
       "    .dataframe thead th {\n",
       "        text-align: right;\n",
       "    }\n",
       "</style>\n",
       "<table border=\"1\" class=\"dataframe\">\n",
       "  <thead>\n",
       "    <tr style=\"text-align: right;\">\n",
       "      <th></th>\n",
       "      <th>UserId</th>\n",
       "      <th>ItemId</th>\n",
       "      <th>date</th>\n",
       "      <th>Rating</th>\n",
       "      <th>timestamp</th>\n",
       "      <th>time_slot</th>\n",
       "      <th>uid</th>\n",
       "      <th>iid</th>\n",
       "    </tr>\n",
       "  </thead>\n",
       "  <tbody>\n",
       "    <tr>\n",
       "      <th>2</th>\n",
       "      <td>2632461</td>\n",
       "      <td>3</td>\n",
       "      <td>2005-07-22</td>\n",
       "      <td>3.0</td>\n",
       "      <td>1121990400000000000</td>\n",
       "      <td>9</td>\n",
       "      <td>100494</td>\n",
       "      <td>0</td>\n",
       "    </tr>\n",
       "    <tr>\n",
       "      <th>15</th>\n",
       "      <td>1694958</td>\n",
       "      <td>3</td>\n",
       "      <td>2005-08-10</td>\n",
       "      <td>3.0</td>\n",
       "      <td>1123632000000000000</td>\n",
       "      <td>9</td>\n",
       "      <td>100525</td>\n",
       "      <td>0</td>\n",
       "    </tr>\n",
       "  </tbody>\n",
       "</table>\n",
       "</div>"
      ],
      "text/plain": [
       "     UserId  ItemId       date  Rating            timestamp  time_slot  \\\n",
       "2   2632461       3 2005-07-22     3.0  1121990400000000000          9   \n",
       "15  1694958       3 2005-08-10     3.0  1123632000000000000          9   \n",
       "\n",
       "       uid  iid  \n",
       "2   100494    0  \n",
       "15  100525    0  "
      ]
     },
     "execution_count": 35,
     "metadata": {},
     "output_type": "execute_result"
    }
   ],
   "source": [
    "user = data_train['UserId'].unique()\n",
    "item= data_train['ItemId'].unique()\n",
    "user_to_id = dict(zip(list(user),list(np.arange(user.shape[0]))))\n",
    "item_to_id = dict(zip(list(item),list(range(item.shape[0]))))\n",
    "print(\"user num:\",user.shape)\n",
    "print(\"item num:\", item.shape)\n",
    "data_train['uid'] = data_train['UserId'].map(user_to_id)\n",
    "data_train['iid'] = data_train['ItemId'].map(item_to_id)\n",
    "\n",
    "data_test['uid'] = data_test['UserId'].map(user_to_id)\n",
    "data_test['iid'] = data_test['ItemId'].map(item_to_id)\n",
    "\n",
    "data_test.head(2)"
   ]
  },
  {
   "cell_type": "code",
   "execution_count": 37,
   "id": "1e4b91f0",
   "metadata": {},
   "outputs": [
    {
     "data": {
      "text/html": [
       "<div>\n",
       "<style scoped>\n",
       "    .dataframe tbody tr th:only-of-type {\n",
       "        vertical-align: middle;\n",
       "    }\n",
       "\n",
       "    .dataframe tbody tr th {\n",
       "        vertical-align: top;\n",
       "    }\n",
       "\n",
       "    .dataframe thead th {\n",
       "        text-align: right;\n",
       "    }\n",
       "</style>\n",
       "<table border=\"1\" class=\"dataframe\">\n",
       "  <thead>\n",
       "    <tr style=\"text-align: right;\">\n",
       "      <th></th>\n",
       "      <th>uid</th>\n",
       "      <th>iid</th>\n",
       "      <th>time_slot</th>\n",
       "      <th>click</th>\n",
       "    </tr>\n",
       "  </thead>\n",
       "  <tbody>\n",
       "    <tr>\n",
       "      <th>2</th>\n",
       "      <td>100494</td>\n",
       "      <td>0</td>\n",
       "      <td>9</td>\n",
       "      <td>3.0</td>\n",
       "    </tr>\n",
       "    <tr>\n",
       "      <th>15</th>\n",
       "      <td>100525</td>\n",
       "      <td>0</td>\n",
       "      <td>9</td>\n",
       "      <td>3.0</td>\n",
       "    </tr>\n",
       "  </tbody>\n",
       "</table>\n",
       "</div>"
      ],
      "text/plain": [
       "       uid  iid  time_slot  click\n",
       "2   100494    0          9    3.0\n",
       "15  100525    0          9    3.0"
      ]
     },
     "execution_count": 37,
     "metadata": {},
     "output_type": "execute_result"
    }
   ],
   "source": [
    "data_train = data_train[['uid','iid','time_slot','Rating']]\n",
    "data_test = data_test[['uid','iid','time_slot','Rating']]\n",
    "#\n",
    "columns = ['uid','iid','time_slot','click']\n",
    "data_train.columns = columns\n",
    "data_test.columns = columns\n",
    "data_test.head(2)"
   ]
  },
  {
   "cell_type": "markdown",
   "id": "6de43a3b",
   "metadata": {},
   "source": [
    "## split validation set"
   ]
  },
  {
   "cell_type": "code",
   "execution_count": 39,
   "id": "bdc13220",
   "metadata": {},
   "outputs": [
    {
     "name": "stdout",
     "output_type": "stream",
     "text": [
      "tot user in the last stage: 107898 real test user: 75528 real valid user: 32370\n"
     ]
    }
   ],
   "source": [
    "test_unique_user = data_test['uid'].unique()\n",
    "N_ = test_unique_user.shape[0]\n",
    "np.random.seed(2020)\n",
    "np.random.shuffle(test_unique_user)\n",
    "split_idx  = int(N_*0.7)\n",
    "test_real_user = test_unique_user[:split_idx]\n",
    "valid_real_user = test_unique_user[split_idx:]\n",
    "print(\"tot user in the last stage:\",N_,\"real test user:\",test_real_user.shape[0],\"real valid user:\",valid_real_user.shape[0])"
   ]
  },
  {
   "cell_type": "code",
   "execution_count": 41,
   "id": "3e08f458",
   "metadata": {},
   "outputs": [
    {
     "name": "stdout",
     "output_type": "stream",
     "text": [
      "tot itr: (2776038, 4) real test: (1942172, 4) real valid: (833866, 4)\n"
     ]
    }
   ],
   "source": [
    "data_real_test = data_test[data_test['uid'].isin(test_real_user)]\n",
    "data_real_valid = data_test[data_test['uid'].isin(valid_real_user)]\n",
    "print(\"tot itr:\",data_test.shape,\"real test:\",data_real_test.shape,\"real valid:\",data_real_valid.shape)"
   ]
  },
  {
   "cell_type": "markdown",
   "id": "e357f88f",
   "metadata": {},
   "source": [
    "## Write txt files (Not run in future)"
   ]
  },
  {
   "cell_type": "code",
   "execution_count": 55,
   "id": "4bebc9ff",
   "metadata": {},
   "outputs": [
    {
     "data": {
      "text/html": [
       "<div>\n",
       "<style scoped>\n",
       "    .dataframe tbody tr th:only-of-type {\n",
       "        vertical-align: middle;\n",
       "    }\n",
       "\n",
       "    .dataframe tbody tr th {\n",
       "        vertical-align: top;\n",
       "    }\n",
       "\n",
       "    .dataframe thead th {\n",
       "        text-align: right;\n",
       "    }\n",
       "</style>\n",
       "<table border=\"1\" class=\"dataframe\">\n",
       "  <thead>\n",
       "    <tr style=\"text-align: right;\">\n",
       "      <th></th>\n",
       "      <th>uid</th>\n",
       "      <th>iid</th>\n",
       "      <th>time_slot</th>\n",
       "      <th>click</th>\n",
       "    </tr>\n",
       "  </thead>\n",
       "  <tbody>\n",
       "    <tr>\n",
       "      <th>0</th>\n",
       "      <td>0</td>\n",
       "      <td>0</td>\n",
       "      <td>6</td>\n",
       "      <td>5.0</td>\n",
       "    </tr>\n",
       "    <tr>\n",
       "      <th>1</th>\n",
       "      <td>0</td>\n",
       "      <td>556</td>\n",
       "      <td>5</td>\n",
       "      <td>4.0</td>\n",
       "    </tr>\n",
       "    <tr>\n",
       "      <th>2</th>\n",
       "      <td>0</td>\n",
       "      <td>555</td>\n",
       "      <td>8</td>\n",
       "      <td>5.0</td>\n",
       "    </tr>\n",
       "    <tr>\n",
       "      <th>3</th>\n",
       "      <td>0</td>\n",
       "      <td>1089</td>\n",
       "      <td>7</td>\n",
       "      <td>3.0</td>\n",
       "    </tr>\n",
       "    <tr>\n",
       "      <th>4</th>\n",
       "      <td>0</td>\n",
       "      <td>549</td>\n",
       "      <td>7</td>\n",
       "      <td>3.0</td>\n",
       "    </tr>\n",
       "    <tr>\n",
       "      <th>...</th>\n",
       "      <td>...</td>\n",
       "      <td>...</td>\n",
       "      <td>...</td>\n",
       "      <td>...</td>\n",
       "    </tr>\n",
       "    <tr>\n",
       "      <th>12442383</th>\n",
       "      <td>122953</td>\n",
       "      <td>1333</td>\n",
       "      <td>8</td>\n",
       "      <td>3.0</td>\n",
       "    </tr>\n",
       "    <tr>\n",
       "      <th>12442384</th>\n",
       "      <td>122954</td>\n",
       "      <td>1333</td>\n",
       "      <td>8</td>\n",
       "      <td>5.0</td>\n",
       "    </tr>\n",
       "    <tr>\n",
       "      <th>12442385</th>\n",
       "      <td>122955</td>\n",
       "      <td>1333</td>\n",
       "      <td>8</td>\n",
       "      <td>3.0</td>\n",
       "    </tr>\n",
       "    <tr>\n",
       "      <th>12442386</th>\n",
       "      <td>122956</td>\n",
       "      <td>1333</td>\n",
       "      <td>8</td>\n",
       "      <td>1.0</td>\n",
       "    </tr>\n",
       "    <tr>\n",
       "      <th>12442387</th>\n",
       "      <td>122957</td>\n",
       "      <td>1339</td>\n",
       "      <td>7</td>\n",
       "      <td>3.0</td>\n",
       "    </tr>\n",
       "  </tbody>\n",
       "</table>\n",
       "<p>12442388 rows × 4 columns</p>\n",
       "</div>"
      ],
      "text/plain": [
       "             uid   iid  time_slot  click\n",
       "0              0     0          6    5.0\n",
       "1              0   556          5    4.0\n",
       "2              0   555          8    5.0\n",
       "3              0  1089          7    3.0\n",
       "4              0   549          7    3.0\n",
       "...          ...   ...        ...    ...\n",
       "12442383  122953  1333          8    3.0\n",
       "12442384  122954  1333          8    5.0\n",
       "12442385  122955  1333          8    3.0\n",
       "12442386  122956  1333          8    1.0\n",
       "12442387  122957  1339          7    3.0\n",
       "\n",
       "[12442388 rows x 4 columns]"
      ]
     },
     "execution_count": 55,
     "metadata": {},
     "output_type": "execute_result"
    }
   ],
   "source": [
    "user_items_test "
   ]
  },
  {
   "cell_type": "code",
   "execution_count": 42,
   "id": "a4e174bc",
   "metadata": {},
   "outputs": [
    {
     "name": "stdout",
     "output_type": "stream",
     "text": [
      "   uid  iid  time_slot  click\n",
      "0    0  271          9    4.0\n",
      "1    0  783          9    4.0\n",
      "(1942172, 2)\n"
     ]
    }
   ],
   "source": [
    "import os\n",
    "path_folder = \"./netflix_movie/\"\n",
    "if not os.path.exists(path_folder):\n",
    "    os.mkdir(path_folder)\n",
    "user_items_test = data_real_test.sort_values(by='uid',ignore_index=True)\n",
    "print(user_items_test.head(2))\n",
    "test_itr = user_items_test.values[:,0:2]\n",
    "print(test_itr.shape)\n",
    "with open('./netflix_movie/test_real.txt','w') as f:\n",
    "    u_pre = test_itr[0,0]\n",
    "    k = 0\n",
    "    for x in test_itr:\n",
    "        u = x[0]\n",
    "        i = x[1]\n",
    "        if u !=u_pre or k==0:\n",
    "            u_pre = u\n",
    "            if k>0:\n",
    "                f.write('\\n')\n",
    "            f.write(str(u))\n",
    "            k = 1\n",
    "        f.write(' '+str(i))"
   ]
  },
  {
   "cell_type": "code",
   "execution_count": 44,
   "id": "885991e8",
   "metadata": {},
   "outputs": [
    {
     "name": "stdout",
     "output_type": "stream",
     "text": [
      "   uid  iid  time_slot  click\n",
      "0    1  441          9    4.0\n",
      "1    1  900          9    3.0\n",
      "(833866, 2)\n"
     ]
    }
   ],
   "source": [
    "\n",
    "user_items_test = data_real_valid.sort_values(by='uid',ignore_index=True)\n",
    "print(user_items_test.head(2))\n",
    "test_itr = user_items_test.values[:,0:2]\n",
    "print(test_itr.shape)\n",
    "with open('./netflix_movie/valid_real.txt','w') as f:\n",
    "    u_pre = test_itr[0,0]\n",
    "    k = 0\n",
    "    for x in test_itr:\n",
    "        u = x[0]\n",
    "        i = x[1]\n",
    "        if u !=u_pre or k==0:\n",
    "            u_pre = u\n",
    "            if k>0:\n",
    "                f.write('\\n')\n",
    "            f.write(str(u))\n",
    "            k = 1\n",
    "        f.write(' '+str(i))"
   ]
  },
  {
   "cell_type": "code",
   "execution_count": 46,
   "id": "69d147da",
   "metadata": {},
   "outputs": [
    {
     "name": "stdout",
     "output_type": "stream",
     "text": [
      "   uid  iid  time_slot  click\n",
      "0    0    0          6    5.0\n",
      "1    0  556          5    4.0\n",
      "(12442388, 2)\n"
     ]
    }
   ],
   "source": [
    "user_items_test = data_train.sort_values(by='uid',ignore_index=True)\n",
    "print(user_items_test.head(2))\n",
    "test_itr = user_items_test.values[:,0:2]\n",
    "print(test_itr.shape)\n",
    "with open('./netflix_movie/train.txt','w') as f:\n",
    "    u_pre = test_itr[0,0]\n",
    "    k = 0\n",
    "    for x in test_itr:\n",
    "        u = x[0]\n",
    "        i = x[1]\n",
    "        if u !=u_pre or k==0:\n",
    "            u_pre = u\n",
    "            if k>0:\n",
    "                f.write('\\n')\n",
    "            f.write(str(u))\n",
    "            k = 1\n",
    "        f.write(' '+str(i))"
   ]
  },
  {
   "cell_type": "code",
   "execution_count": 47,
   "id": "16d4cf8e",
   "metadata": {},
   "outputs": [],
   "source": [
    "data_train.to_csv(\"./netflix_movie/train_with_time.txt\",index=False,header=False,sep=' ')"
   ]
  },
  {
   "cell_type": "code",
   "execution_count": 48,
   "id": "0a9c8842",
   "metadata": {},
   "outputs": [],
   "source": [
    "data_real_valid.to_csv(\"./netflix_movie/valid_with_time.txt\",index=False,header=False,sep=' ')\n",
    "data_real_test.to_csv(\"./netflix_movie/test_with_time.txt\",index=False,header=False,sep=' ')"
   ]
  },
  {
   "cell_type": "code",
   "execution_count": 49,
   "id": "14c0761c",
   "metadata": {},
   "outputs": [
    {
     "data": {
      "text/plain": [
       "1342"
      ]
     },
     "execution_count": 49,
     "metadata": {},
     "output_type": "execute_result"
    }
   ],
   "source": [
    "data_train['iid'].max()"
   ]
  },
  {
   "cell_type": "code",
   "execution_count": 51,
   "id": "1ca644d3",
   "metadata": {},
   "outputs": [
    {
     "name": "stdout",
     "output_type": "stream",
     "text": [
      "    uid  iid  time_slot  click\n",
      "0  5428    2          0    2.0\n",
      "1  6283    2          0    1.0\n",
      "   iid   uid\n",
      "0    2  5428\n",
      "1    2  6283\n",
      "(73772, 4)\n",
      "    uid  iid  time_slot  click\n",
      "0  5473    2          1    2.0\n",
      "1  6297    2          1    3.0\n",
      "   iid   uid\n",
      "0    2  5473\n",
      "1    2  6297\n",
      "(120046, 4)\n",
      "    uid  iid  time_slot  click\n",
      "0  5430    2          2    3.0\n",
      "1  6572    2          2    3.0\n",
      "   iid   uid\n",
      "0    2  5430\n",
      "1    2  6572\n",
      "(165978, 4)\n",
      "    uid  iid  time_slot  click\n",
      "0  5429    2          3    3.0\n",
      "1  6597    2          3    5.0\n",
      "   iid   uid\n",
      "0    2  5429\n",
      "1    2  6597\n",
      "(327145, 4)\n",
      "    uid  iid  time_slot  click\n",
      "0  5443    2          4    3.0\n",
      "1  6568    2          4    4.0\n",
      "   iid   uid\n",
      "0    2  5443\n",
      "1    2  6568\n",
      "(501930, 4)\n",
      "   uid  iid  time_slot  click\n",
      "0    5    0          5    3.0\n",
      "1  834    0          5    3.0\n",
      "   iid  uid\n",
      "0    0    5\n",
      "1    0  834\n",
      "(818362, 4)\n",
      "   uid  iid  time_slot  click\n",
      "0    0    0          6    5.0\n",
      "1  827    0          6    3.0\n",
      "   iid  uid\n",
      "0    0    0\n",
      "1    0  827\n",
      "(1854628, 4)\n",
      "   uid  iid  time_slot  click\n",
      "0    1    0          7    4.0\n",
      "1  935    0          7    4.0\n",
      "   iid  uid\n",
      "0    0    1\n",
      "1    0  935\n",
      "(3397493, 4)\n",
      "   uid  iid  time_slot  click\n",
      "0   26    0          8    5.0\n",
      "1  825    0          8    4.0\n",
      "   iid  uid\n",
      "0    0   26\n",
      "1    0  825\n",
      "(5183034, 4)\n"
     ]
    }
   ],
   "source": [
    "for slot_id in train_slots:\n",
    "    slot_data = data_train[data_train['time_slot'].isin([slot_id])]\n",
    "    slot_data  = slot_data.sort_values(by=['iid'],ignore_index=True)\n",
    "    slot_data_np = slot_data[['iid','uid']].values[:,0:2]\n",
    "    print(slot_data.head(2))\n",
    "    print(slot_data[['iid','uid']].head(2))\n",
    "    print(slot_data.shape)\n",
    "    with open(\"./netflix_movie/t_\"+str(slot_id)+\".txt\",'w') as f:\n",
    "        i_pre = slot_data_np[0,0]\n",
    "        k = 0\n",
    "        for x in slot_data_np:\n",
    "            i_ = x[0]\n",
    "            u_ = x[1]\n",
    "            if i_ != i_pre or k == 0:\n",
    "                i_pre = i_\n",
    "                if k>0:\n",
    "                    f.write('\\n')\n",
    "                f.write(str(i_))\n",
    "                k = 1\n",
    "            f.write(\" \" + str(u_))"
   ]
  },
  {
   "cell_type": "code",
   "execution_count": 53,
   "id": "4c895859",
   "metadata": {},
   "outputs": [
    {
     "name": "stdout",
     "output_type": "stream",
     "text": [
      "      uid  iid  time_slot  click\n",
      "0  100494    0          9    3.0\n",
      "1   60061    0          9    5.0\n",
      "   iid     uid\n",
      "0    0  100494\n",
      "1    0   60061\n",
      "(2776038, 4)\n"
     ]
    }
   ],
   "source": [
    "slot_data = data_test\n",
    "slot_data  = slot_data.sort_values(by=['iid'],ignore_index=True)\n",
    "slot_data_np = slot_data[['iid','uid']].values[:,0:2]\n",
    "print(slot_data.head(2))\n",
    "print(slot_data[['iid','uid']].head(2))\n",
    "print(slot_data.shape)\n",
    "with open(\"./netflix_movie/t_\"+str(9)+\".txt\",'w') as f:\n",
    "    i_pre = slot_data_np[0,0]\n",
    "    k = 0\n",
    "    for x in slot_data_np:\n",
    "        i_ = x[0]\n",
    "        u_ = x[1]\n",
    "        if i_ != i_pre or k == 0:\n",
    "            i_pre = i_\n",
    "            if k>0:\n",
    "                f.write('\\n')\n",
    "            f.write(str(i_))\n",
    "            k = 1\n",
    "        f.write(\" \" + str(u_))"
   ]
  },
  {
   "cell_type": "code",
   "execution_count": null,
   "id": "d8e6ea5f",
   "metadata": {},
   "outputs": [],
   "source": []
  }
 ],
 "metadata": {
  "kernelspec": {
   "display_name": "Python 3 (clean)",
   "language": "python",
   "name": "python3_clean"
  },
  "language_info": {
   "codemirror_mode": {
    "name": "ipython",
    "version": 3
   },
   "file_extension": ".py",
   "mimetype": "text/x-python",
   "name": "python",
   "nbconvert_exporter": "python",
   "pygments_lexer": "ipython3",
   "version": "3.9.5"
  }
 },
 "nbformat": 4,
 "nbformat_minor": 5
}
